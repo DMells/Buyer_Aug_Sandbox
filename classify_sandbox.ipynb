{
 "cells": [
  {
   "cell_type": "code",
   "execution_count": 7,
   "metadata": {
    "pycharm": {
     "is_executing": false
    }
   },
   "outputs": [],
   "source": [
    "# Choose kernel (your pipenv name as in `pipenv --venv`) "
   ]
  },
  {
   "cell_type": "code",
   "execution_count": 8,
   "metadata": {
    "pycharm": {
     "is_executing": false,
     "name": "#%%\n"
    }
   },
   "outputs": [
    {
     "data": {
      "text/plain": [
       "True"
      ]
     },
     "execution_count": 8,
     "metadata": {},
     "output_type": "execute_result"
    }
   ],
   "source": [
    "import os\n",
    "import pandas as pd\n",
    "from google.protobuf.json_format import MessageToDict, MessageToJson\n",
    "from google.oauth2.service_account import Credentials\n",
    "from google.cloud import language_v1\n",
    "from google.cloud.language_v1 import enums\n",
    "from core.apis.google_cloud_api import get_google_cloud_credentials_dict\n",
    "from core import database\n",
    "import sys\n",
    "from dotenv import find_dotenv, load_dotenv\n",
    "load_dotenv(find_dotenv())"
   ]
  },
  {
   "cell_type": "code",
   "execution_count": 9,
   "metadata": {
    "pycharm": {
     "is_executing": false,
     "name": "#%%\n"
    }
   },
   "outputs": [],
   "source": [
    "def classify_text(row):\n",
    "    \"\"\"\n",
    "    Classifying Content in a String\n",
    "\n",
    "    Args:\n",
    "      text_content The text content to analyze. Must include at least 20 words.\n",
    "    \"\"\"\n",
    "\n",
    "    text_content = row.description\n",
    "    try:\n",
    "        if text_content:\n",
    "            client = language_v1.LanguageServiceClient()\n",
    "\n",
    "            # Available types: PLAIN_TEXT, HTML\n",
    "            type_ = enums.Document.Type.PLAIN_TEXT\n",
    "\n",
    "            # Optional. If not specified, the language is automatically detected.\n",
    "            # For list of supported languages:\n",
    "            # https://cloud.google.com/natural-language/docs/languages\n",
    "            language = \"en\"\n",
    "            document = {\"content\": text_content, \"type\": type_, \"language\": language}\n",
    "\n",
    "            response = client.classify_text(document)\n",
    "            respjson = MessageToJson(response)\n",
    "            respdict = MessageToDict(response)\n",
    "            row.at['g_classn_response'] = respjson\n",
    "            # Loop through classified categories returned from the API\n",
    "            highestconfitem = ''\n",
    "            highestconfscore = 0\n",
    "            for itemindex in range(len(respdict['categories'])):\n",
    "                if respdict['categories'][itemindex]['confidence'] >= highestconfscore:\n",
    "                    highestconfscore = respdict['categories'][itemindex]['confidence']\n",
    "                    highestconfitem = respdict['categories'][itemindex]['name']\n",
    "\n",
    "            # https://cloud.google.com/natural-language/docs/categories\n",
    "            row.at['g_description_class'] = highestconfitem\n",
    "            row.at['g_desc_cls_confidence'] = highestconfscore\n",
    "\n",
    "            return row\n",
    "        return row\n",
    "    except:\n",
    "        return row\n"
   ]
  },
  {
   "cell_type": "code",
   "execution_count": 10,
   "metadata": {
    "pycharm": {
     "is_executing": false,
     "name": "#%%\n"
    }
   },
   "outputs": [],
   "source": [
    "def tendersQuery():\n",
    "    query = \\\n",
    "        \"\"\"\n",
    "        SELECT            \n",
    "        distinct t.buyer as src_name,\n",
    "        t.json -> 'releases' -> 0 -> 'tender' ->> 'description' as description,\n",
    "        t.source as source,\n",
    "        t.ocid as ocid,\n",
    "        t.json::text as ocds_json\n",
    "\n",
    "          FROM ocds.ocds_tenders_view as t\n",
    "        WHERE TRUE\n",
    "          AND t.buyer NOTNULL\n",
    "          AND source IN (SELECT DISTINCT (scraper) FROM clients.contracts_advance_sources)              \n",
    "          AND date_created >= '2016-05-23'\n",
    "          AND date_created <= now()\n",
    "          AND date_created >= now()::DATE - INTERVAL '1 day'\n",
    "          AND NOT exists(SELECT 1 FROM ocds.duplicates where t.json -> 'releases' -> 0 ->> 'ocid' = ocid)\n",
    "          AND t.countryname IN ('United Kingdom','England','Scotland','Northern Ireland','Wales')\n",
    "        ;\"\"\"\n",
    "    return query\n"
   ]
  },
  {
   "cell_type": "code",
   "execution_count": 11,
   "metadata": {
    "pycharm": {
     "is_executing": false,
     "name": "#%%\n"
    }
   },
   "outputs": [],
   "source": [
    "def remove_unicode(text):\n",
    "    ''' Remove unicode chars '''\n",
    "    text = text.decode(\"ascii\", errors=\"ignore\").encode()\n",
    "    return text"
   ]
  },
  {
   "cell_type": "code",
   "execution_count": 12,
   "metadata": {
    "pycharm": {
     "is_executing": false,
     "name": "#%%\n"
    }
   },
   "outputs": [
    {
     "name": "stdout",
     "output_type": "stream",
     "text": [
      "Connected.\n"
     ]
    }
   ],
   "source": [
    "# Establish connection to staging database\n",
    "connection = database.Connection(*database.getDBCredsFromUrl(os.environ['STAGING_DB_URL']))"
   ]
  },
  {
   "cell_type": "code",
   "execution_count": 13,
   "metadata": {
    "pycharm": {
     "is_executing": false,
     "name": "#%%\n"
    }
   },
   "outputs": [],
   "source": [
    "# Construct SQL query\n",
    "query = tendersQuery()"
   ]
  },
  {
   "cell_type": "code",
   "execution_count": 14,
   "metadata": {
    "pycharm": {
     "is_executing": false,
     "name": "#%%\n"
    }
   },
   "outputs": [],
   "source": [
    "# Execute SQL query\n",
    "df = pd.read_sql(query, con=connection.con)"
   ]
  },
  {
   "cell_type": "code",
   "execution_count": 15,
   "metadata": {
    "pycharm": {
     "is_executing": false,
     "name": "#%%\n"
    }
   },
   "outputs": [],
   "source": [
    "# Resize dataframe for inspection\n",
    "df = df[:100]"
   ]
  },
  {
   "cell_type": "code",
   "execution_count": 16,
   "metadata": {
    "pycharm": {
     "is_executing": false,
     "name": "#%%\n"
    }
   },
   "outputs": [],
   "source": [
    "# Run dataframe through Google NL API\n",
    "df = df.apply(classify_text, axis=1)"
   ]
  },
  {
   "cell_type": "code",
   "execution_count": 20,
   "metadata": {
    "pycharm": {
     "is_executing": false,
     "name": "#%%\n"
    }
   },
   "outputs": [
    {
     "data": {
      "text/plain": [
       "Index([u'description', u'g_classn_response', u'g_desc_cls_confidence',\n",
       "       u'g_description_class', u'ocds_json', u'ocid', u'source', u'src_name'],\n",
       "      dtype='object')"
      ]
     },
     "execution_count": 20,
     "metadata": {},
     "output_type": "execute_result"
    }
   ],
   "source": [
    "df.columns"
   ]
  },
  {
   "cell_type": "code",
   "execution_count": 36,
   "metadata": {
    "pycharm": {
     "name": "#%%\n"
    }
   },
   "outputs": [],
   "source": [
    "# Extract relevant columns\n",
    "df1 = df[['ocid','src_name','description','g_description_class','g_desc_cls_confidence']]"
   ]
  },
  {
   "cell_type": "code",
   "execution_count": null,
   "metadata": {},
   "outputs": [],
   "source": [
    "# Format to show all text\n",
    "pd.set_option('display.max_colwidth', -1)"
   ]
  },
  {
   "cell_type": "code",
   "execution_count": 41,
   "metadata": {
    "pycharm": {
     "name": "#%%\n"
    }
   },
   "outputs": [
    {
     "data": {
      "text/html": [
       "<div>\n",
       "<style scoped>\n",
       "    .dataframe tbody tr th:only-of-type {\n",
       "        vertical-align: middle;\n",
       "    }\n",
       "\n",
       "    .dataframe tbody tr th {\n",
       "        vertical-align: top;\n",
       "    }\n",
       "\n",
       "    .dataframe thead th {\n",
       "        text-align: right;\n",
       "    }\n",
       "</style>\n",
       "<table border=\"1\" class=\"dataframe\">\n",
       "  <thead>\n",
       "    <tr style=\"text-align: right;\">\n",
       "      <th></th>\n",
       "      <th>ocid</th>\n",
       "      <th>src_name</th>\n",
       "      <th>description</th>\n",
       "      <th>g_description_class</th>\n",
       "      <th>g_desc_cls_confidence</th>\n",
       "    </tr>\n",
       "  </thead>\n",
       "  <tbody>\n",
       "    <tr>\n",
       "      <th>0</th>\n",
       "      <td>ocds-0c46vo-0133-597846-2019</td>\n",
       "      <td>Aberdeen City Council</td>\n",
       "      <td>Following the opening of the AWPR routing around the city network will change as drivers are directed to and from the route. New direction signs have been designed and the contract is for the manufacture and installation of these changes.</td>\n",
       "      <td>NaN</td>\n",
       "      <td>NaN</td>\n",
       "    </tr>\n",
       "    <tr>\n",
       "      <th>1</th>\n",
       "      <td>ocds-0c46vo-0022-DEC319879</td>\n",
       "      <td>Aberystwyth University</td>\n",
       "      <td>Aberystwyth University wishes to procure a coffee supplier for Aberystwyth Arts Centre.  The appointment will be by a process of competitive quotation.  The requirement is set out in the Specification herein.</td>\n",
       "      <td>/Jobs &amp; Education/Education/Colleges &amp; Universities</td>\n",
       "      <td>0.75</td>\n",
       "    </tr>\n",
       "    <tr>\n",
       "      <th>2</th>\n",
       "      <td>ocds-0c46vo-0001-489e58e0-2c61-4e28-9a89-b0441a7adb2f</td>\n",
       "      <td>AGH Solutions Ltd</td>\n",
       "      <td>AGH Solutions Ltd and Bradford District Care NHS Foundation Trust (The Consortium) require Mixed Business Wastes (DMR &amp;amp; RDF) collections.\\r\\nThe main aims and objectives of the contract are as follows: \\r\\na.\\tto ensure best value\\r\\nb.\\tto increase recycling \\r\\nc.\\tto achieve 0% landfill\\r\\n\\r\\nListed below are the main waste streams currently in place: \\r\\n\\r\\nDry mixed recycling \\r\\nSegregated mixed business wastes\\r\\nSegregated Recycling - card and paper, bulky metal items\\r\\n\\r\\nThe successful bidder shall supply all labour, waste segregation, wheelie bins, containers, materials, transport and associated facilities to provide this service.\\r\\n\\r\\nThe disposal of electrical and electronic equipment waste, white goods, hazardous and confidential waste will not form part of this contract. \\r\\n\\r\\nIt is expected the contract will commence on 01 November 2018 and will be for an initial term of 7 years with the option to extend for a further three 12 month periods.\\r\\n\\r\\n\\r\\nIncludes Lots: \\r\\nLot 1: AGH Solutions Ltd\\r\\nLot 2: Bradford District Care NHS Foundation Trust\\r\\n\\r\\nTo access this competition: \\r\\n\\r\\nRegistered:\\r\\nLogin to https://suppliers.multiquote.com and view the opportunity CA4742.\\r\\n\\r\\nNot registered:\\r\\nVisit https://suppliers.multiquote.com then register and quote CA4742 as the reason for registration. \\r\\n\\r\\n Any queries please contact MultiQuote on 0151 482 9230.</td>\n",
       "      <td>/Business &amp; Industrial/Energy &amp; Utilities</td>\n",
       "      <td>0.81</td>\n",
       "    </tr>\n",
       "    <tr>\n",
       "      <th>3</th>\n",
       "      <td>ocds-0c46vo-0133-598214-2019</td>\n",
       "      <td>AGH Solutions Ltd</td>\n",
       "      <td>AGH Solutions Ltd requires Mixed Business Wastes (DMR and RDF) collections.The main aims and objectives of the contract are as follows:(a) to ensure best value;(b) to increase recycling;(c) to achieve 0 % landfill. Bradford District Care NHS Foundation Trust requires Mixed Business Wastes (DMR and RDF) collections.The main aims and objectives of the contract are as follows:(a) to ensure best value;(b) to increase recycling;(c) to achieve 0 % landfill.</td>\n",
       "      <td>/Business &amp; Industrial/Energy &amp; Utilities</td>\n",
       "      <td>0.80</td>\n",
       "    </tr>\n",
       "    <tr>\n",
       "      <th>4</th>\n",
       "      <td>ocds-0c46vo-0133-597883-2019</td>\n",
       "      <td>Agri-Food Biosciences Institute</td>\n",
       "      <td>Agri-Food and Biosciences Institute wishes to commission a number of seabird surveys, a tracking study and an assessment of the potential effects of climate change upon seabirds as part of the MarPAMM project. The data collection components of the work will be undertaken in the INTERREG VA eligible area and the results of the work will feed into the development of management plans for a number of MPAs within the region. The work required has been divided into 5 lots:—Lot 1: Survey of Breeding Cliff Nesting Seabird Species at Colonies in Western Scotland,— Lot 2: Survey of Breeding Cliff Nesting Seabird Species at Colonies and Wintering Eider in Northern Ireland,— Lot 3: Survey of Breeding Shearwaters and Petrels in Scotland,— Lot 4: Tagging Studies of Black Guillemot in Northern Ireland,— Lot 5: Production of Climate Change Model for Key Seabird Species in the INTERREG VA Region. Agri-Food and Biosciences Institute wishes to commission a number of seabird surveys, a tracking study and an assessment of the potential effects of climate change upon seabirds as part of the MarPAMM project. The data collection components of the work will be undertaken in the INTERREG VA eligible area and the results of the work will feed into the development of management plans for a number of MPAs within the region. The work required has been divided into 5 lots:— Lot 1: Survey of Breeding Cliff Nesting Seabird Species at Colonies in Western Scotland,— Lot 2: Survey of Breeding Cliff Nesting seabird Species at Colonies and Wintering Eider in Northern Ireland,— Lot 3: Survey of Breeding Shearwaters and Petrels in Scotland,— Lot 4: Tagging Studies of Black Guillemot in Northern Ireland,— Lot 5: Production of Climate Change Model for Key Seabird Species in the INTERREG VA Region. Agri-Food and Biosciences Institute wishes to commission a number of seabird surveys, a tracking study and an assessment of the potential effects of climate change upon seabirds as part of the MarPAMM project. The data collection components of the work will be undertaken in the INTERREG VA eligible area and the results of the work will feed into the development of management plans for a number of MPAs within the region. The work required has been divided into 5 lots:— Lot 1: Survey of Breeding Cliff Nesting Seabird Species at Colonies in Western Scotland,— Lot 2: Survey of Breeding Cliff Nesting Seabird Species at Colonies and Wintering Eider in Northern Ireland,— Lot 3: Survey of Breeding Shearwaters and Petrels in Scotland,— Lot 4: Tagging Studies of Black Guillemot in Northern Ireland,— Lot 5: Production of Climate Change Model for Key Seabird Species in the INTERREG VA Region. Agri-Food and Biosciences Institute wishes to commission a number of seabird surveys, a tracking study and an assessment of the potential effects of climate change upon seabirds as part of the MarPAMM project. The data collection components of the work will be undertaken in the INTERREG VA eligible area and the results of the work will feed into the development of management plans for a number of MPAs within the region. The work required has been divided into 5 lots:— Lot 1: Survey of Breeding Cliff Nesting Seabird Species at Colonies in Western Scotland,— Lot 2: Survey of Breeding Cliff Nesting seabird Species at Colonies and Wintering Eider in Northern Ireland,— Lot 3: Survey of Breeding Shearwaters and Petrels in Scotland,— Lot 4: Tagging Studies of Black Guillemot in Northern Ireland,— Lot 5: Production of Climate Change Model for key Seabird Species in the INTERREG VA Region.</td>\n",
       "      <td>/Business &amp; Industrial/Agriculture &amp; Forestry</td>\n",
       "      <td>0.75</td>\n",
       "    </tr>\n",
       "    <tr>\n",
       "      <th>5</th>\n",
       "      <td>ocds-0c46vo-0133-595370-2019</td>\n",
       "      <td>Antrim and Newtownabbey Borough Council</td>\n",
       "      <td>The Council seeks tenders for the provision of catering services from competent, experienced service providers with a professional approach and a proven track record. The Council will grant the exclusive rights to supply commercial catering services within the Mossley Mill site.</td>\n",
       "      <td>/Business &amp; Industrial</td>\n",
       "      <td>0.73</td>\n",
       "    </tr>\n",
       "    <tr>\n",
       "      <th>6</th>\n",
       "      <td>ocds-0c46vo-0133-596954-2019</td>\n",
       "      <td>Antrim and Newtownabbey Borough Council</td>\n",
       "      <td>The supply, delivery, and maintenance of 2 telehandlers.</td>\n",
       "      <td>NaN</td>\n",
       "      <td>NaN</td>\n",
       "    </tr>\n",
       "    <tr>\n",
       "      <th>7</th>\n",
       "      <td>ocds-0c46vo-0133-595779-2019</td>\n",
       "      <td>Associated British Ports Ltd</td>\n",
       "      <td>Requirements of hold baggage screening, cargo baggage screening and metal detecting arches.</td>\n",
       "      <td>NaN</td>\n",
       "      <td>NaN</td>\n",
       "    </tr>\n",
       "    <tr>\n",
       "      <th>8</th>\n",
       "      <td>ocds-0c46vo-0133-598011-2019</td>\n",
       "      <td>Association of North East Councils Ltd trading as NEPO (Central Purchasing Body)</td>\n",
       "      <td>NEPO used an open tender procedure for the procurement of this framework agreement. This involved the publication of selection and award criteria in order to meet the requirements of contracting authorities that would be using the framework agreement and these were evaluated in accordance with the award criteria contained within the invitation to tender documents. The most economically advantageous tenderer was awarded to the framework agreement which will be made available for use by all contracting authorities throughout the North East Region (as defined by the Public Contracts Regulations 2015) including but not limited to government departments and their agencies, non-departmental public bodies, central government, NHS bodies, local authorities, emergency services, coastguard emergency services, educational establishments, registered social landlords and registered charities who have a need to purchase the above services. The framework agreement will be awarded to a ranked list of up to a maximum of two (2) suppliers for each lot with the 1st ranked being designated the primary supplier and the 2nd ranked the contingency supplier. Contracting authorities will then be able to call-off by way of direct award to the primary supplier. If the primary supplier notifies NEPO that it is no longer able to supply under the framework agreement or if they fail to meet the delivery and performance requirements of the framework agreement, then contracting authorities will be able to direct award to the contingency supplier. NEPO used an open tender procedure for the procurement of this framework agreement. This involved the publication of selection and award criteria in order to meet the requirements of contracting authorities that would be using the framework agreement and these were evaluated in accordance with the award criteria contained within the invitation to tender documents. The most economically advantageous tenderer was awarded to the framework contract which will be made available for use by all contracting authorities throughout the North East Region (as defined by the Public Contracts Regulations 2015) including but not limited to government departments and their agencies, non-departmental public bodies, central government, NHS bodies, local authorities, emergency services, coastguard emergency services, educational establishments, registered social landlords and registered charities who have a need to purchase the above services. The framework agreement will be awarded to a ranked list of up to a maximum of two (2) suppliers for each lot with the 1st ranked being designated the primary supplier and the 2nd ranked the contingency supplier. Contracting authorities will then be able to call-off by way of direct award to the primary supplier. If the primary supplier notifies NEPO that it is no longer able to supply under the framework agreement or if they fail to meet the delivery and performance requirements of the framework agreement, then contracting authorities will be able to direct award to the contingency supplier.</td>\n",
       "      <td>/Law &amp; Government</td>\n",
       "      <td>0.84</td>\n",
       "    </tr>\n",
       "    <tr>\n",
       "      <th>9</th>\n",
       "      <td>ocds-0c46vo-0007-47144822</td>\n",
       "      <td>Balfour Beatty VINCI Systra JV</td>\n",
       "      <td>About the Opportunity: Scope of Service •\\tReview all relevant ecological contract documents and requirements including but not limited to Hs2 Environmental Minimum requirements, Technical Standards, ecological surveys, etc..    •\\tProvide area-wide advice and guidance on ecological matters including undertaking surveys, mitigation measures  and achieving Net gain •\\tDraft and maintain the project’s Ecological Management plan    •\\tDevelop and obtain ecological consents  / licences  for all work packages.  •\\tLiaison with enforcing authorities including Natural England. •\\tSupport the achievement of all relevant BREEAM Ecology credits     HS2 Phase One environmental statement volume 5: ecology https://www.gov.uk/government/publications/hs2-phase-one-environmental-statement-volume-5-ecology/hs2-phase-one-environmental-statement-volume-5-ecology 1D009-EDP-EV-MAP-S004-000002 BREEAM Land use and Ecology Fig 2 post construction 1CP00-HS2-PR-ITT-000-000023 - WI2000 EandS Management P1S-HS2-EN-SPE-S004-000001 Old Oak Common (S4) - Contract Requirements Technical HS2 Ecology (No Net Loss) GIS Specification - HS2-HS2-GI-SPE-000-000005\\tP04 SCEW SERIES 3000 - Landscape and Ecology - HS2-HS2-CV-SPE-000-013000\\tP01 Technical Standard - Ecology - HS2-HS2-EV-STD-000-000017\\tP12 EDP WP009 OOC RIBA 2 BREEAM Land Use and Ecology - 1D009-EDP-EV-ASM-S004-000001\\tP01 Old Oak Common Station/ BREEAM Land Use &amp; Ecology/ Figure 1 - Pre-construction - 1D009-EDP-EV-MAP-S004-000001\\tP01 London-West Midlands Environmental Statement - Environmental Minimum Requirements - Annex 1: Code of Construction Practice LWM-HS2-EV-STA-000-000107\\t  BREEAM UK New Construction (2014): non domestic Buildings Technical Manual - HS2-BRE-SU-MAN-000-000001\\t  Competency Suitably qualified ecologist (SQE) An individual achieving all the following items can be considered to be “suitably qualified” for the purposes of compliance with BREEAM: 1.\\tHolds a degree or equivalent qualification (e.g. N/SVQ level 5) in ecology or a related subject. 2.\\tIs a practising ecologist, with a minimum of three years relevant experience (within the last five years). Such experience must clearly demonstrate a practical understanding of factors affecting ecology in relation to construction and the built environment; including, acting in an advisory capacity to provide recommendations for ecological protection, enhancement and mitigation measures. Examples of relevant experience are: ecological impact assessments; Phase 1 and 2 habitat surveys and habitat restoration. 3.\\tIs covered by a professional code of conduct and subject to peer review. Full members of the following organisations, who meet the above criteria, are deemed suitably qualified ecologists for the purposes of BREEAM: a.\\tChartered Institution of Water and Environmental Management (CIWEM) 2.\\tInstitute of Ecology and Environmental Management (IEEM) 3.\\tInstitute of Environmental Management and Assessment (IEMA) 4.\\tLandscape Institute (LI) 5.\\tThe Institution of Environmental Sciences (IES) 6.\\tSociety of Biology Current Main Works Programme: Ecology Surveys is an emerging scope, with an estimated commencement date of March 2020. A programme of works will be issued with the Invitation to Tender to shortlisted suppliers. It is likely that there will be a requirement for monitoring presence for much of the duration of the Main Contract scope (To September 2027). About the buyer's selection process: Respondents to this opportunity should be advised that shortlisted applicants will be invited to tender through an external ERP system. The exact scoring criteria are currently being developed by BBVS, and shortlisted suppliers will be invited to register for the ERP system in due course. What is clear at this stage is that tenders will be scored competitively across a range of criteria, such as, but not limited to: Commercial, Programme, Methodology, HSEQ, Capability and Capacity.  About the buyer: In 2018, Balfour Beatty, VINCI and Systra (BBVS) created a strategic alliance to deliver major infrastructure projects for HS2, in particular the Terminus at Old Oak Common.</td>\n",
       "      <td>/People &amp; Society/Social Issues &amp; Advocacy/Green Living &amp; Environmental Issues</td>\n",
       "      <td>0.57</td>\n",
       "    </tr>\n",
       "  </tbody>\n",
       "</table>\n",
       "</div>"
      ],
      "text/plain": [
       "                                                    ocid  \\\n",
       "0  ocds-0c46vo-0133-597846-2019                            \n",
       "1  ocds-0c46vo-0022-DEC319879                              \n",
       "2  ocds-0c46vo-0001-489e58e0-2c61-4e28-9a89-b0441a7adb2f   \n",
       "3  ocds-0c46vo-0133-598214-2019                            \n",
       "4  ocds-0c46vo-0133-597883-2019                            \n",
       "5  ocds-0c46vo-0133-595370-2019                            \n",
       "6  ocds-0c46vo-0133-596954-2019                            \n",
       "7  ocds-0c46vo-0133-595779-2019                            \n",
       "8  ocds-0c46vo-0133-598011-2019                            \n",
       "9  ocds-0c46vo-0007-47144822                               \n",
       "\n",
       "                                                                           src_name  \\\n",
       "0  Aberdeen City Council                                                              \n",
       "1  Aberystwyth University                                                             \n",
       "2  AGH Solutions Ltd                                                                  \n",
       "3  AGH Solutions Ltd                                                                  \n",
       "4  Agri-Food Biosciences Institute                                                    \n",
       "5  Antrim and Newtownabbey Borough Council                                            \n",
       "6  Antrim and Newtownabbey Borough Council                                            \n",
       "7  Associated British Ports Ltd                                                       \n",
       "8  Association of North East Councils Ltd trading as NEPO (Central Purchasing Body)   \n",
       "9  Balfour Beatty VINCI Systra JV                                                     \n",
       "\n",
       "                                                                                                                                                                                                                                                                                                                                                                                                                                                                                                                                                                                                                                                                                                                                                                                                                                                                                                                                                                                                                                                                                                                                                                                                                                                                                                                                                                                                                                                                                                                                                                                                                                                                                                                                                                                                                                                                                                                                                                                                                                                                                                                                                                                                                                                                                                                                                                                                                                                                                                                                                                                                                                                                                                                                                                                                                                                                                                                                                                                                                                                                                                                                                                                                                                                                                                                                                                                                                                                                                                                                                                                                                                                                                                                                                                                                                                                                                                                                                                                                                                                                                                                                                                                                                                                                                               description  \\\n",
       "0  Following the opening of the AWPR routing around the city network will change as drivers are directed to and from the route. New direction signs have been designed and the contract is for the manufacture and installation of these changes.                                                                                                                                                                                                                                                                                                                                                                                                                                                                                                                                                                                                                                                                                                                                                                                                                                                                                                                                                                                                                                                                                                                                                                                                                                                                                                                                                                                                                                                                                                                                                                                                                                                                                                                                                                                                                                                                                                                                                                                                                                                                                                                                                                                                                                                                                                                                                                                                                                                                                                                                                                                                                                                                                                                                                                                                                                                                                                                                                                                                                                                                                                                                                                                                                                                                                                                                                                                                                                                                                                                                                                                                                                                                                                                                                                                                                                                                                                                                                                                                                                                            \n",
       "1  Aberystwyth University wishes to procure a coffee supplier for Aberystwyth Arts Centre.  The appointment will be by a process of competitive quotation.  The requirement is set out in the Specification herein.                                                                                                                                                                                                                                                                                                                                                                                                                                                                                                                                                                                                                                                                                                                                                                                                                                                                                                                                                                                                                                                                                                                                                                                                                                                                                                                                                                                                                                                                                                                                                                                                                                                                                                                                                                                                                                                                                                                                                                                                                                                                                                                                                                                                                                                                                                                                                                                                                                                                                                                                                                                                                                                                                                                                                                                                                                                                                                                                                                                                                                                                                                                                                                                                                                                                                                                                                                                                                                                                                                                                                                                                                                                                                                                                                                                                                                                                                                                                                                                                                                                                                          \n",
       "2  AGH Solutions Ltd and Bradford District Care NHS Foundation Trust (The Consortium) require Mixed Business Wastes (DMR &amp; RDF) collections.\\r\\nThe main aims and objectives of the contract are as follows: \\r\\na.\\tto ensure best value\\r\\nb.\\tto increase recycling \\r\\nc.\\tto achieve 0% landfill\\r\\n\\r\\nListed below are the main waste streams currently in place: \\r\\n\\r\\nDry mixed recycling \\r\\nSegregated mixed business wastes\\r\\nSegregated Recycling - card and paper, bulky metal items\\r\\n\\r\\nThe successful bidder shall supply all labour, waste segregation, wheelie bins, containers, materials, transport and associated facilities to provide this service.\\r\\n\\r\\nThe disposal of electrical and electronic equipment waste, white goods, hazardous and confidential waste will not form part of this contract. \\r\\n\\r\\nIt is expected the contract will commence on 01 November 2018 and will be for an initial term of 7 years with the option to extend for a further three 12 month periods.\\r\\n\\r\\n\\r\\nIncludes Lots: \\r\\nLot 1: AGH Solutions Ltd\\r\\nLot 2: Bradford District Care NHS Foundation Trust\\r\\n\\r\\nTo access this competition: \\r\\n\\r\\nRegistered:\\r\\nLogin to https://suppliers.multiquote.com and view the opportunity CA4742.\\r\\n\\r\\nNot registered:\\r\\nVisit https://suppliers.multiquote.com then register and quote CA4742 as the reason for registration. \\r\\n\\r\\n Any queries please contact MultiQuote on 0151 482 9230.                                                                                                                                                                                                                                                                                                                                                                                                                                                                                                                                                                                                                                                                                                                                                                                                                                                                                                                                                                                                                                                                                                                                                                                                                                                                                                                                                                                                                                                                                                                                                                                                                                                                                                                                                                                                                                                                                                                                                                                                                                                                                                                                                                                                                                                                                                                                                                                                                                                                                                                                                                                                                                                                                                                                                                                                                                \n",
       "3  AGH Solutions Ltd requires Mixed Business Wastes (DMR and RDF) collections.The main aims and objectives of the contract are as follows:(a) to ensure best value;(b) to increase recycling;(c) to achieve 0 % landfill. Bradford District Care NHS Foundation Trust requires Mixed Business Wastes (DMR and RDF) collections.The main aims and objectives of the contract are as follows:(a) to ensure best value;(b) to increase recycling;(c) to achieve 0 % landfill.                                                                                                                                                                                                                                                                                                                                                                                                                                                                                                                                                                                                                                                                                                                                                                                                                                                                                                                                                                                                                                                                                                                                                                                                                                                                                                                                                                                                                                                                                                                                                                                                                                                                                                                                                                                                                                                                                                                                                                                                                                                                                                                                                                                                                                                                                                                                                                                                                                                                                                                                                                                                                                                                                                                                                                                                                                                                                                                                                                                                                                                                                                                                                                                                                                                                                                                                                                                                                                                                                                                                                                                                                                                                                                                                                                                                                                   \n",
       "4  Agri-Food and Biosciences Institute wishes to commission a number of seabird surveys, a tracking study and an assessment of the potential effects of climate change upon seabirds as part of the MarPAMM project. The data collection components of the work will be undertaken in the INTERREG VA eligible area and the results of the work will feed into the development of management plans for a number of MPAs within the region. The work required has been divided into 5 lots:—Lot 1: Survey of Breeding Cliff Nesting Seabird Species at Colonies in Western Scotland,— Lot 2: Survey of Breeding Cliff Nesting Seabird Species at Colonies and Wintering Eider in Northern Ireland,— Lot 3: Survey of Breeding Shearwaters and Petrels in Scotland,— Lot 4: Tagging Studies of Black Guillemot in Northern Ireland,— Lot 5: Production of Climate Change Model for Key Seabird Species in the INTERREG VA Region. Agri-Food and Biosciences Institute wishes to commission a number of seabird surveys, a tracking study and an assessment of the potential effects of climate change upon seabirds as part of the MarPAMM project. The data collection components of the work will be undertaken in the INTERREG VA eligible area and the results of the work will feed into the development of management plans for a number of MPAs within the region. The work required has been divided into 5 lots:— Lot 1: Survey of Breeding Cliff Nesting Seabird Species at Colonies in Western Scotland,— Lot 2: Survey of Breeding Cliff Nesting seabird Species at Colonies and Wintering Eider in Northern Ireland,— Lot 3: Survey of Breeding Shearwaters and Petrels in Scotland,— Lot 4: Tagging Studies of Black Guillemot in Northern Ireland,— Lot 5: Production of Climate Change Model for Key Seabird Species in the INTERREG VA Region. Agri-Food and Biosciences Institute wishes to commission a number of seabird surveys, a tracking study and an assessment of the potential effects of climate change upon seabirds as part of the MarPAMM project. The data collection components of the work will be undertaken in the INTERREG VA eligible area and the results of the work will feed into the development of management plans for a number of MPAs within the region. The work required has been divided into 5 lots:— Lot 1: Survey of Breeding Cliff Nesting Seabird Species at Colonies in Western Scotland,— Lot 2: Survey of Breeding Cliff Nesting Seabird Species at Colonies and Wintering Eider in Northern Ireland,— Lot 3: Survey of Breeding Shearwaters and Petrels in Scotland,— Lot 4: Tagging Studies of Black Guillemot in Northern Ireland,— Lot 5: Production of Climate Change Model for Key Seabird Species in the INTERREG VA Region. Agri-Food and Biosciences Institute wishes to commission a number of seabird surveys, a tracking study and an assessment of the potential effects of climate change upon seabirds as part of the MarPAMM project. The data collection components of the work will be undertaken in the INTERREG VA eligible area and the results of the work will feed into the development of management plans for a number of MPAs within the region. The work required has been divided into 5 lots:— Lot 1: Survey of Breeding Cliff Nesting Seabird Species at Colonies in Western Scotland,— Lot 2: Survey of Breeding Cliff Nesting seabird Species at Colonies and Wintering Eider in Northern Ireland,— Lot 3: Survey of Breeding Shearwaters and Petrels in Scotland,— Lot 4: Tagging Studies of Black Guillemot in Northern Ireland,— Lot 5: Production of Climate Change Model for key Seabird Species in the INTERREG VA Region.                                                                                                                                                                                                                                                                                                                                                                                                                                                                                                                                                                                    \n",
       "5  The Council seeks tenders for the provision of catering services from competent, experienced service providers with a professional approach and a proven track record. The Council will grant the exclusive rights to supply commercial catering services within the Mossley Mill site.                                                                                                                                                                                                                                                                                                                                                                                                                                                                                                                                                                                                                                                                                                                                                                                                                                                                                                                                                                                                                                                                                                                                                                                                                                                                                                                                                                                                                                                                                                                                                                                                                                                                                                                                                                                                                                                                                                                                                                                                                                                                                                                                                                                                                                                                                                                                                                                                                                                                                                                                                                                                                                                                                                                                                                                                                                                                                                                                                                                                                                                                                                                                                                                                                                                                                                                                                                                                                                                                                                                                                                                                                                                                                                                                                                                                                                                                                                                                                                                                                   \n",
       "6  The supply, delivery, and maintenance of 2 telehandlers.                                                                                                                                                                                                                                                                                                                                                                                                                                                                                                                                                                                                                                                                                                                                                                                                                                                                                                                                                                                                                                                                                                                                                                                                                                                                                                                                                                                                                                                                                                                                                                                                                                                                                                                                                                                                                                                                                                                                                                                                                                                                                                                                                                                                                                                                                                                                                                                                                                                                                                                                                                                                                                                                                                                                                                                                                                                                                                                                                                                                                                                                                                                                                                                                                                                                                                                                                                                                                                                                                                                                                                                                                                                                                                                                                                                                                                                                                                                                                                                                                                                                                                                                                                                                                                                  \n",
       "7  Requirements of hold baggage screening, cargo baggage screening and metal detecting arches.                                                                                                                                                                                                                                                                                                                                                                                                                                                                                                                                                                                                                                                                                                                                                                                                                                                                                                                                                                                                                                                                                                                                                                                                                                                                                                                                                                                                                                                                                                                                                                                                                                                                                                                                                                                                                                                                                                                                                                                                                                                                                                                                                                                                                                                                                                                                                                                                                                                                                                                                                                                                                                                                                                                                                                                                                                                                                                                                                                                                                                                                                                                                                                                                                                                                                                                                                                                                                                                                                                                                                                                                                                                                                                                                                                                                                                                                                                                                                                                                                                                                                                                                                                                                               \n",
       "8  NEPO used an open tender procedure for the procurement of this framework agreement. This involved the publication of selection and award criteria in order to meet the requirements of contracting authorities that would be using the framework agreement and these were evaluated in accordance with the award criteria contained within the invitation to tender documents. The most economically advantageous tenderer was awarded to the framework agreement which will be made available for use by all contracting authorities throughout the North East Region (as defined by the Public Contracts Regulations 2015) including but not limited to government departments and their agencies, non-departmental public bodies, central government, NHS bodies, local authorities, emergency services, coastguard emergency services, educational establishments, registered social landlords and registered charities who have a need to purchase the above services. The framework agreement will be awarded to a ranked list of up to a maximum of two (2) suppliers for each lot with the 1st ranked being designated the primary supplier and the 2nd ranked the contingency supplier. Contracting authorities will then be able to call-off by way of direct award to the primary supplier. If the primary supplier notifies NEPO that it is no longer able to supply under the framework agreement or if they fail to meet the delivery and performance requirements of the framework agreement, then contracting authorities will be able to direct award to the contingency supplier. NEPO used an open tender procedure for the procurement of this framework agreement. This involved the publication of selection and award criteria in order to meet the requirements of contracting authorities that would be using the framework agreement and these were evaluated in accordance with the award criteria contained within the invitation to tender documents. The most economically advantageous tenderer was awarded to the framework contract which will be made available for use by all contracting authorities throughout the North East Region (as defined by the Public Contracts Regulations 2015) including but not limited to government departments and their agencies, non-departmental public bodies, central government, NHS bodies, local authorities, emergency services, coastguard emergency services, educational establishments, registered social landlords and registered charities who have a need to purchase the above services. The framework agreement will be awarded to a ranked list of up to a maximum of two (2) suppliers for each lot with the 1st ranked being designated the primary supplier and the 2nd ranked the contingency supplier. Contracting authorities will then be able to call-off by way of direct award to the primary supplier. If the primary supplier notifies NEPO that it is no longer able to supply under the framework agreement or if they fail to meet the delivery and performance requirements of the framework agreement, then contracting authorities will be able to direct award to the contingency supplier.                                                                                                                                                                                                                                                                                                                                                                                                                                                                                                                                                                                                                                                                                                                                                                                                                                                                                                                                                                                                                                                                                                    \n",
       "9  About the Opportunity: Scope of Service •\\tReview all relevant ecological contract documents and requirements including but not limited to Hs2 Environmental Minimum requirements, Technical Standards, ecological surveys, etc..    •\\tProvide area-wide advice and guidance on ecological matters including undertaking surveys, mitigation measures  and achieving Net gain •\\tDraft and maintain the project’s Ecological Management plan    •\\tDevelop and obtain ecological consents  / licences  for all work packages.  •\\tLiaison with enforcing authorities including Natural England. •\\tSupport the achievement of all relevant BREEAM Ecology credits     HS2 Phase One environmental statement volume 5: ecology https://www.gov.uk/government/publications/hs2-phase-one-environmental-statement-volume-5-ecology/hs2-phase-one-environmental-statement-volume-5-ecology 1D009-EDP-EV-MAP-S004-000002 BREEAM Land use and Ecology Fig 2 post construction 1CP00-HS2-PR-ITT-000-000023 - WI2000 EandS Management P1S-HS2-EN-SPE-S004-000001 Old Oak Common (S4) - Contract Requirements Technical HS2 Ecology (No Net Loss) GIS Specification - HS2-HS2-GI-SPE-000-000005\\tP04 SCEW SERIES 3000 - Landscape and Ecology - HS2-HS2-CV-SPE-000-013000\\tP01 Technical Standard - Ecology - HS2-HS2-EV-STD-000-000017\\tP12 EDP WP009 OOC RIBA 2 BREEAM Land Use and Ecology - 1D009-EDP-EV-ASM-S004-000001\\tP01 Old Oak Common Station/ BREEAM Land Use & Ecology/ Figure 1 - Pre-construction - 1D009-EDP-EV-MAP-S004-000001\\tP01 London-West Midlands Environmental Statement - Environmental Minimum Requirements - Annex 1: Code of Construction Practice LWM-HS2-EV-STA-000-000107\\t  BREEAM UK New Construction (2014): non domestic Buildings Technical Manual - HS2-BRE-SU-MAN-000-000001\\t  Competency Suitably qualified ecologist (SQE) An individual achieving all the following items can be considered to be “suitably qualified” for the purposes of compliance with BREEAM: 1.\\tHolds a degree or equivalent qualification (e.g. N/SVQ level 5) in ecology or a related subject. 2.\\tIs a practising ecologist, with a minimum of three years relevant experience (within the last five years). Such experience must clearly demonstrate a practical understanding of factors affecting ecology in relation to construction and the built environment; including, acting in an advisory capacity to provide recommendations for ecological protection, enhancement and mitigation measures. Examples of relevant experience are: ecological impact assessments; Phase 1 and 2 habitat surveys and habitat restoration. 3.\\tIs covered by a professional code of conduct and subject to peer review. Full members of the following organisations, who meet the above criteria, are deemed suitably qualified ecologists for the purposes of BREEAM: a.\\tChartered Institution of Water and Environmental Management (CIWEM) 2.\\tInstitute of Ecology and Environmental Management (IEEM) 3.\\tInstitute of Environmental Management and Assessment (IEMA) 4.\\tLandscape Institute (LI) 5.\\tThe Institution of Environmental Sciences (IES) 6.\\tSociety of Biology Current Main Works Programme: Ecology Surveys is an emerging scope, with an estimated commencement date of March 2020. A programme of works will be issued with the Invitation to Tender to shortlisted suppliers. It is likely that there will be a requirement for monitoring presence for much of the duration of the Main Contract scope (To September 2027). About the buyer's selection process: Respondents to this opportunity should be advised that shortlisted applicants will be invited to tender through an external ERP system. The exact scoring criteria are currently being developed by BBVS, and shortlisted suppliers will be invited to register for the ERP system in due course. What is clear at this stage is that tenders will be scored competitively across a range of criteria, such as, but not limited to: Commercial, Programme, Methodology, HSEQ, Capability and Capacity.  About the buyer: In 2018, Balfour Beatty, VINCI and Systra (BBVS) created a strategic alliance to deliver major infrastructure projects for HS2, in particular the Terminus at Old Oak Common.   \n",
       "\n",
       "                                                              g_description_class  \\\n",
       "0  NaN                                                                              \n",
       "1  /Jobs & Education/Education/Colleges & Universities                              \n",
       "2  /Business & Industrial/Energy & Utilities                                        \n",
       "3  /Business & Industrial/Energy & Utilities                                        \n",
       "4  /Business & Industrial/Agriculture & Forestry                                    \n",
       "5  /Business & Industrial                                                           \n",
       "6  NaN                                                                              \n",
       "7  NaN                                                                              \n",
       "8  /Law & Government                                                                \n",
       "9  /People & Society/Social Issues & Advocacy/Green Living & Environmental Issues   \n",
       "\n",
       "   g_desc_cls_confidence  \n",
       "0 NaN                     \n",
       "1  0.75                   \n",
       "2  0.81                   \n",
       "3  0.80                   \n",
       "4  0.75                   \n",
       "5  0.73                   \n",
       "6 NaN                     \n",
       "7 NaN                     \n",
       "8  0.84                   \n",
       "9  0.57                   "
      ]
     },
     "execution_count": 41,
     "metadata": {},
     "output_type": "execute_result"
    }
   ],
   "source": [
    "# Show top X rows\n",
    "x = 10\n",
    "df1.head(x)\n"
   ]
  },
  {
   "cell_type": "code",
   "execution_count": null,
   "metadata": {},
   "outputs": [],
   "source": []
  }
 ],
 "metadata": {
  "kernelspec": {
   "display_name": "Buyer_Aug_Sandbox-B8RRG-l3",
   "language": "python",
   "name": "buyer_aug_sandbox-b8rrg-l3"
  },
  "language_info": {
   "codemirror_mode": {
    "name": "ipython",
    "version": 2
   },
   "file_extension": ".py",
   "mimetype": "text/x-python",
   "name": "python",
   "nbconvert_exporter": "python",
   "pygments_lexer": "ipython2",
   "version": "2.7.16"
  },
  "pycharm": {
   "stem_cell": {
    "cell_type": "raw",
    "source": [],
    "metadata": {
     "collapsed": false
    }
   }
  }
 },
 "nbformat": 4,
 "nbformat_minor": 1
}